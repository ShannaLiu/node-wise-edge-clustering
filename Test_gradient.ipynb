{
 "cells": [
  {
   "cell_type": "code",
   "execution_count": 1,
   "metadata": {},
   "outputs": [],
   "source": [
    "import torch\n",
    "from torch_geometric.nn import GCNConv\n",
    "from torch.nn import Linear\n",
    "from torch_geometric.nn import global_mean_pool\n",
    "import torch.nn.functional as F\n",
    "from torch_geometric.datasets import TUDataset\n",
    "from pooling_class import *"
   ]
  },
  {
   "cell_type": "code",
   "execution_count": 17,
   "metadata": {},
   "outputs": [
    {
     "data": {
      "text/plain": [
       "Data(edge_index=[2, 38], x=[17, 7], edge_attr=[38, 4], y=[1])"
      ]
     },
     "execution_count": 17,
     "metadata": {},
     "output_type": "execute_result"
    }
   ],
   "source": [
    "dataset = TUDataset('data', name='MUTAG')\n",
    "dataset = dataset.shuffle()\n",
    "n = (len(dataset) + 9) // 10\n",
    "test_dataset = dataset[:n]\n",
    "val_dataset = dataset[n:2 * n]\n",
    "train_dataset = dataset[2 * n:]\n",
    "data = train_dataset[0]\n",
    "data"
   ]
  },
  {
   "cell_type": "code",
   "execution_count": 18,
   "metadata": {},
   "outputs": [],
   "source": [
    "# Test whether the message can flow (gradient can be updated automatically)\n",
    "class dispooling_GCN(torch.nn.Module):\n",
    "    def __init__(self, in_channels, hidden_channels, out_channels):\n",
    "        super().__init__()\n",
    "        torch.manual_seed(1234)\n",
    "        self.conv1 = GCNConv(in_channels, hidden_channels)\n",
    "        self.pool1 = pooling(hidden_channels, score_method=2, normalize=True, self_add=2.5, aggregate_score_method='avg', upper_bound=5, greedy=True, select=True)\n",
    "        # self.poo1 = EdgePooling(hidden_channels)\n",
    "        self.conv2 = GCNConv(hidden_channels, hidden_channels)\n",
    "        self.conv3 = GCNConv(hidden_channels, hidden_channels)\n",
    "        self.lin = torch.nn.Linear(hidden_channels, out_channels)\n",
    "\n",
    "    def forward(self, x, edge_index):\n",
    "        h = self.conv1(x, edge_index).relu()\n",
    "        edge_index, h, _, _, _ = self.pool1(h,edge_index)\n",
    "        # h, edge_index, _, _ = self.pool1(x, edge_index, batch=None)\n",
    "        h = self.conv2(h, edge_index).relu()\n",
    "        h = self.conv3(h, edge_index).relu()\n",
    "        h = self.lin(h).relu()\n",
    "        h = global_mean_pool(h, batch=None)\n",
    "        return F.log_softmax(h, dim=-1)"
   ]
  },
  {
   "cell_type": "code",
   "execution_count": 27,
   "metadata": {},
   "outputs": [
    {
     "name": "stdout",
     "output_type": "stream",
     "text": [
      "Epoch: 001, Train Loss: 0.5653, Val Acc: 0.5789, Test Acc: 0.3684\n",
      "Epoch: 011, Train Loss: 0.5030, Val Acc: 0.5789, Test Acc: 0.3684\n",
      "Epoch: 021, Train Loss: 0.5840, Val Acc: 0.5789, Test Acc: 0.3684\n",
      "Epoch: 031, Train Loss: 0.6743, Val Acc: 0.5789, Test Acc: 0.3684\n",
      "Epoch: 041, Train Loss: 0.7102, Val Acc: 0.6316, Test Acc: 0.4737\n",
      "Epoch: 051, Train Loss: 0.9604, Val Acc: 0.6316, Test Acc: 0.6316\n",
      "Epoch: 061, Train Loss: 1.0706, Val Acc: 0.6316, Test Acc: 0.6316\n",
      "Epoch: 071, Train Loss: 1.1856, Val Acc: 0.6316, Test Acc: 0.6316\n",
      "Epoch: 081, Train Loss: 1.2665, Val Acc: 0.6316, Test Acc: 0.6316\n",
      "Epoch: 091, Train Loss: 1.3340, Val Acc: 0.6316, Test Acc: 0.6316\n",
      "Epoch: 101, Train Loss: 1.3869, Val Acc: 0.6316, Test Acc: 0.6316\n",
      "Epoch: 111, Train Loss: 1.4389, Val Acc: 0.6316, Test Acc: 0.6316\n",
      "Epoch: 121, Train Loss: 1.4803, Val Acc: 0.6316, Test Acc: 0.6316\n",
      "Epoch: 131, Train Loss: 1.5150, Val Acc: 0.6316, Test Acc: 0.6316\n",
      "Epoch: 141, Train Loss: 1.5473, Val Acc: 0.6316, Test Acc: 0.6316\n",
      "Epoch: 151, Train Loss: 1.5750, Val Acc: 0.6316, Test Acc: 0.6316\n",
      "Epoch: 161, Train Loss: 1.6009, Val Acc: 0.6316, Test Acc: 0.6316\n"
     ]
    }
   ],
   "source": [
    "model = dispooling_GCN(in_channels=dataset.num_node_features, hidden_channels=20, out_channels=dataset.num_classes)\n",
    "model.forward(data.x, data.edge_index)\n",
    "optimizer = torch.optim.Adam(model.parameters(), lr=1e-4)\n",
    "criterion = torch.nn.CrossEntropyLoss()\n",
    "\n",
    "def train():\n",
    "    model.train()\n",
    "    for data in train_dataset:\n",
    "        optimizer.zero_grad() \n",
    "        out = model(data.x, data.edge_index)\n",
    "        loss = criterion(out, data.y)\n",
    "        loss.backward()\n",
    "        optimizer.step()\n",
    "    return(loss)\n",
    "\n",
    "\n",
    "def test():\n",
    "    model.eval()\n",
    "    correct = 0\n",
    "    for data in test_dataset:\n",
    "        pred = model(data.x, data.edge_index).argmax(dim=1)\n",
    "        correct += int((pred == data.y).sum())\n",
    "    return correct / len(test_dataset)\n",
    "\n",
    "\n",
    "def val():\n",
    "    model.eval()\n",
    "    correct = 0\n",
    "    for data in val_dataset:\n",
    "        pred = model(data.x, data.edge_index).argmax(dim=1)\n",
    "        correct += int((pred == data.y).sum())\n",
    "    return correct / len(test_dataset)\n",
    "\n",
    "\n",
    "\n",
    "best_val_acc = 0\n",
    "for epoch in range(1, 171):\n",
    "    train_loss = train()\n",
    "    val_acc = val()\n",
    "    test_acc = test()\n",
    "    if val_acc > best_val_acc:\n",
    "        test_acc = test()\n",
    "        best_val_acc = val_acc\n",
    "    if epoch % 10 == 1:\n",
    "        print(f'Epoch: {epoch:03d}, Train Loss: {train_loss:.4f}, '\n",
    "            f'Val Acc: {val_acc:.4f}, Test Acc: {test_acc:.4f}')"
   ]
  },
  {
   "cell_type": "code",
   "execution_count": 12,
   "metadata": {},
   "outputs": [
    {
     "data": {
      "text/plain": [
       "5"
      ]
     },
     "execution_count": 12,
     "metadata": {},
     "output_type": "execute_result"
    }
   ],
   "source": [
    "# upper bound is chose not to integrate the graph to a single node 5 * 0.5 = 2.5\n",
    "import networkx as nx\n",
    "d_min = 1000\n",
    "for data in dataset:\n",
    "    G = U.to_networkx(data, to_undirected=True)\n",
    "    d = nx.diameter(G)\n",
    "    if d < d_min:\n",
    "        d_min = d\n",
    "d_min"
   ]
  }
 ],
 "metadata": {
  "interpreter": {
   "hash": "070abceb24e738bbd6634274827241c1c175321cca14cfcc03bf4e6ff7b889ca"
  },
  "kernelspec": {
   "display_name": "Python 3.9.7 ('base')",
   "language": "python",
   "name": "python3"
  },
  "language_info": {
   "codemirror_mode": {
    "name": "ipython",
    "version": 3
   },
   "file_extension": ".py",
   "mimetype": "text/x-python",
   "name": "python",
   "nbconvert_exporter": "python",
   "pygments_lexer": "ipython3",
   "version": "3.9.7"
  },
  "orig_nbformat": 4
 },
 "nbformat": 4,
 "nbformat_minor": 2
}
