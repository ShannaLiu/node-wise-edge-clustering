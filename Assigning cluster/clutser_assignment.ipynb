{
 "cells": [
  {
   "cell_type": "markdown",
   "metadata": {},
   "source": [
    "### Compute the score for each edge based on the embedding of the two nodes\n",
    "Only consider connected graph\\\n",
    "The score is computed using the distance of the two vectors, and would be large if the embeddings are different."
   ]
  },
  {
   "cell_type": "code",
   "execution_count": 95,
   "metadata": {},
   "outputs": [],
   "source": [
    "import torch\n",
    "import torch.nn.functional as F\n",
    "from torch_scatter import scatter_add\n",
    "from torch_sparse import coalesce\n",
    "\n",
    "from torch.nn import PairwiseDistance\n",
    "from torch import sigmoid as sigmoid\n",
    "from torch import tanh as tanh\n",
    "from torch import softmax as softmax\n",
    "from torch_geometric.datasets import Planetoid\n",
    "import torch_geometric.transforms as T\n",
    "import torch_geometric.utils as U\n",
    " \n",
    "import networkx as nx\n",
    "import numpy as np\n"
   ]
  },
  {
   "cell_type": "code",
   "execution_count": 518,
   "metadata": {},
   "outputs": [],
   "source": [
    "# distance (based on the node embedding) + GNN\n",
    "## function to compute the score for each edge\n",
    "# normalize: tanh, softmax, sigmoid, standard\n",
    "def compute_distance_score(p_norm=0.5, normalize = True, edge_index=[], x=[], self_add=0.5):\n",
    "    \n",
    "    pdist = PairwiseDistance(p_norm)\n",
    "    dist = pdist(x[edge_index[0]], x[edge_index[1]])\n",
    "    \n",
    "    if normalize == True:\n",
    "        dist_norm = (dist - torch.min(dist)) / (torch.max(dist) - torch.min(dist))\n",
    "    else:\n",
    "        print('Wrong type of normalize, use softmax as default')\n",
    "        dist_norm = dist\n",
    "    return dist_norm + self_add"
   ]
  },
  {
   "cell_type": "code",
   "execution_count": 520,
   "metadata": {},
   "outputs": [],
   "source": [
    "def node__cluster_search(edge_score, edge_index, i, upper_bound, greedy=False):\n",
    "# stop after reaching upper_bound for the first time\n",
    "    selected_score = []\n",
    "    in_cluster = [i]\n",
    "    selected_edge = torch.tensor([])\n",
    "    while (sum(selected_score) < upper_bound):\n",
    "        potential_edge_index = torch.tensor([])\n",
    "        potential_score = torch.tensor([])\n",
    "        for i in in_cluster:\n",
    "            # the first element in edge is in cluster\n",
    "            potential_edge_index = torch.cat([potential_edge_index, edge_index[:,edge_index[0]==i]], dim=-1) \n",
    "            potential_score = torch.cat([potential_score, edge_score[edge_index[0]==i]], dim=-1)\n",
    "            for j in in_cluster:\n",
    "                potential_score = potential_score[potential_edge_index[1]!=j]\n",
    "                potential_edge_index = potential_edge_index[:,potential_edge_index[1]!=j]\n",
    "        if (potential_score.shape[0]==0):\n",
    "            print('The current cluster has contained all nodes in the graph')\n",
    "            break\n",
    "        added_score = torch.min(potential_score)\n",
    "        added_edge = potential_edge_index[:,torch.where(potential_score==added_score)]\n",
    "        selected_edge = torch.cat([selected_edge, added_edge], dim=-1)   \n",
    "        selected_score += [added_score.item()]\n",
    "        in_cluster += [int(added_edge[1].item())]\n",
    "    if (greedy==False):\n",
    "        in_cluster = in_cluster[0:(len(in_cluster)-1)]\n",
    "        selected_edge = selected_edge[:,0:(selected_edge.shape[1]-1)]\n",
    "        selected_score = selected_score[0:(len(selected_score)-1)]\n",
    "\n",
    "\n",
    "    return in_cluster, selected_edge, selected_score"
   ]
  },
  {
   "cell_type": "code",
   "execution_count": 593,
   "metadata": {},
   "outputs": [],
   "source": [
    "# Cluster selection\n",
    "# method: \n",
    "# sample: False: construct cluster for each node, \n",
    "#         true: construct cluster for sampled nodes, until cover all nodes (regardless of select)\n",
    "# select: True: use heuristic strategy to select clusters\n",
    "#          \n",
    "def cluster_assignment(edge_score, edge_index, upper_bound, greedy=False, sample=False, select=True):\n",
    "    num_nodes = torch.max(edge_index) + 1\n",
    "    assignment_matrix = torch.tensor([])\n",
    "    node_score_matrix = torch.tensor([])\n",
    "    cluster_score = torch.tensor([])\n",
    "    # cluster assignment matrix (C*N C: number of considered clusters, N: number of nodes)\n",
    "    # \n",
    "\n",
    "    num_cluster = num_nodes \n",
    "    assignment_matrix = torch.zeros((num_cluster, num_nodes))\n",
    "    node_score_matrix = torch.zeros([num_cluster, num_nodes])\n",
    "    cluster_score = torch.zeros([num_cluster])\n",
    "\n",
    "    for i in range(num_cluster):\n",
    "        in_cluster, selected_edge, selected_score = node__cluster_search(edge_score, edge_index, i, upper_bound, greedy)\n",
    "        assignment_matrix[i,in_cluster] = 1\n",
    "        cluster_score[i] = sum(selected_score)\n",
    "        for j in range(len(selected_score)):\n",
    "            node_score_matrix[i,int(selected_edge[0,j].item())] += selected_score[j]/2\n",
    "            node_score_matrix[i,int(selected_edge[1,j].item())] += selected_score[j]/2\n",
    "    # delete repeated cluster\n",
    "    _, index, _ = np.unique(assignment_matrix.numpy(), return_index=True, return_inverse=True, axis=0)\n",
    "    assignment_matrix = assignment_matrix[index,]\n",
    "    node_score_matrix = node_score_matrix[index,]\n",
    "    cluster_score = cluster_score[index]\n",
    "    \n",
    "    if select == True:\n",
    "        selected_assignment_matrix = torch.tensor([])\n",
    "        selected_node_score_matrix = torch.tensor([])\n",
    "        potential_assignment_matrix = assignment_matrix\n",
    "        potential_node_score_matrix = node_score_matrix\n",
    "        potential_cluster_score = cluster_score\n",
    "        potential_node_index = torch.ones(num_nodes) # node index that hasn't been selected\n",
    "        while (torch.sum(torch.sum(selected_assignment_matrix, dim=0)>0) < num_nodes):\n",
    "            num_of_element = torch.sum(potential_assignment_matrix[:,potential_node_index>0], dim=1)\n",
    "            max_cluster_score = torch.max(potential_cluster_score[torch.where(num_of_element==torch.max(num_of_element))])\n",
    "            selected_cluster_index = torch.where(potential_cluster_score==max_cluster_score)[0]\n",
    "            added_assignment_matrix = potential_assignment_matrix[selected_cluster_index,:]\n",
    "            added_node_score_matrix = potential_node_score_matrix[selected_cluster_index,:]\n",
    "            selected_assignment_matrix = torch.cat([selected_assignment_matrix, added_assignment_matrix], dim=0)\n",
    "            potential_assignment_matrix = torch.cat([potential_assignment_matrix[0:selected_cluster_index,:],potential_assignment_matrix[selected_cluster_index+1:,:]],dim=0)\n",
    "            selected_node_score_matrix = torch.cat([selected_node_score_matrix, added_node_score_matrix], dim=0)\n",
    "            potential_node_score_matrix = torch.cat([potential_node_score_matrix[0:selected_cluster_index,:],potential_node_score_matrix[selected_cluster_index+1:,:]],dim=0)\n",
    "            potential_node_index[torch.sum(selected_assignment_matrix, dim=0)>0] = 0\n",
    "    elif select==False:\n",
    "        selected_assignment_matrix = assignment_matrix\n",
    "        selected_node_score_matrix = node_score_matrix\n",
    "    return selected_assignment_matrix, selected_node_score_matrix \n",
    "        \n",
    "# return: new_edge_index, new_x"
   ]
  },
  {
   "cell_type": "code",
   "execution_count": 621,
   "metadata": {},
   "outputs": [
    {
     "data": {
      "image/png": "[encoded data removed]",
      "text/plain": [
       "<Figure size 432x288 with 1 Axes>"
      ]
     },
     "metadata": {},
     "output_type": "display_data"
    }
   ],
   "source": [
    "G = nx.connected_watts_strogatz_graph(n=6, k=4, p=0.4)\n",
    "nx.draw(G, with_labels=True)\n",
    "G0 = U.from_networkx(G)\n",
    "edge_index = G0.edge_index\n",
    "G0.x = torch.randn(6,3) # feature_size = 3\n",
    "x = G0.x"
   ]
  },
  {
   "cell_type": "code",
   "execution_count": 622,
   "metadata": {},
   "outputs": [
    {
     "name": "stdout",
     "output_type": "stream",
     "text": [
      "tensor([0.5000, 1.3700, 0.8237, 0.6397, 0.5000, 1.1660, 0.5262, 1.1383, 0.8237,\n",
      "        1.1660, 0.9098, 1.5000, 1.0469, 0.5262, 1.0469, 1.2714, 0.6397, 0.9098,\n",
      "        0.8934, 1.3700, 1.1383, 1.5000, 1.2714, 0.8934])\n",
      "tensor([[0, 0, 0, 0, 1, 1, 1, 1, 2, 2, 2, 2, 2, 3, 3, 3, 4, 4, 4, 5, 5, 5, 5, 5],\n",
      "        [1, 5, 2, 4, 0, 2, 3, 5, 0, 1, 4, 5, 3, 1, 2, 5, 0, 2, 5, 0, 1, 2, 3, 4]])\n"
     ]
    }
   ],
   "source": [
    "edge_score = compute_distance_score(p_norm=2, normalize = True, edge_index = edge_index, x=x)\n",
    "print(edge_score)\n",
    "print(edge_index)"
   ]
  },
  {
   "cell_type": "code",
   "execution_count": 623,
   "metadata": {},
   "outputs": [
    {
     "data": {
      "text/plain": [
       "torch.Size([2, 6])"
      ]
     },
     "execution_count": 623,
     "metadata": {},
     "output_type": "execute_result"
    }
   ],
   "source": [
    "selected_assignment_matrix, selected_node_score_matrix = cluster_assignment(edge_score, edge_index, upper_bound=2, greedy=False, select=True)\n",
    "selected_assignment_matrix.shape\n"
   ]
  },
  {
   "cell_type": "code",
   "execution_count": 624,
   "metadata": {},
   "outputs": [
    {
     "data": {
      "text/plain": [
       "tensor([[0, 1],\n",
       "        [1, 0]])"
      ]
     },
     "execution_count": 624,
     "metadata": {},
     "output_type": "execute_result"
    }
   ],
   "source": [
    "adj = U.to_dense_adj(edge_index)[0]\n",
    "adj_new = torch.matmul(torch.matmul(selected_assignment_matrix,adj),selected_assignment_matrix.t()) # connectivity relationship\n",
    "adj_new[adj_new>0] = 1\n",
    "adj_new = U.remove_self_loops(U.dense_to_sparse(adj_new)[0])[0]\n",
    "adj_new"
   ]
  },
  {
   "cell_type": "code",
   "execution_count": 625,
   "metadata": {},
   "outputs": [
    {
     "data": {
      "text/plain": [
       "tensor([[ 0.9470, -0.4556,  4.1614],\n",
       "        [ 0.6166,  1.6959,  2.3808]])"
      ]
     },
     "execution_count": 625,
     "metadata": {},
     "output_type": "execute_result"
    }
   ],
   "source": [
    "x_new = torch.matmul(selected_node_score_matrix, x)\n",
    "x_new"
   ]
  }
 ],
 "metadata": {
  "interpreter": {
   "hash": "070abceb24e738bbd6634274827241c1c175321cca14cfcc03bf4e6ff7b889ca"
  },
  "kernelspec": {
   "display_name": "Python 3.9.7 ('base')",
   "language": "python",
   "name": "python3"
  },
  "language_info": {
   "codemirror_mode": {
    "name": "ipython",
    "version": 3
   },
   "file_extension": ".py",
   "mimetype": "text/x-python",
   "name": "python",
   "nbconvert_exporter": "python",
   "pygments_lexer": "ipython3",
   "version": "3.9.7"
  },
  "orig_nbformat": 4
 },
 "nbformat": 4,
 "nbformat_minor": 2
}
